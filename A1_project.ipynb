{
 "cells": [
  {
   "cell_type": "code",
   "execution_count": 2,
   "id": "dd8640a4",
   "metadata": {},
   "outputs": [
    {
     "name": "stdout",
     "output_type": "stream",
     "text": [
      "/Users/sebastienm/.zshenv:1: bad assignment\n",
      "Collecting ucimlrepo\n",
      "  Downloading ucimlrepo-0.0.6-py3-none-any.whl (8.0 kB)\n",
      "Installing collected packages: ucimlrepo\n",
      "Successfully installed ucimlrepo-0.0.6\n",
      "Note: you may need to restart the kernel to use updated packages.\n"
     ]
    }
   ],
   "source": [
    "pip install ucimlrepo"
   ]
  },
  {
   "cell_type": "code",
   "execution_count": 2,
   "id": "c447f317",
   "metadata": {},
   "outputs": [],
   "source": [
    "import pandas as pd\n",
    "import numpy as np\n",
    "import matplotlib as plt"
   ]
  },
  {
   "cell_type": "code",
   "execution_count": 9,
   "id": "385f4f95",
   "metadata": {},
   "outputs": [],
   "source": [
    "data = pd.DataFrame(pd.read_csv(\"OnlineNewsPopularity/OnlineNewsPopularity.csv\"))"
   ]
  },
  {
   "cell_type": "code",
   "execution_count": 7,
   "id": "7abae357",
   "metadata": {},
   "outputs": [
    {
     "data": {
      "text/html": [
       "<div>\n",
       "<style scoped>\n",
       "    .dataframe tbody tr th:only-of-type {\n",
       "        vertical-align: middle;\n",
       "    }\n",
       "\n",
       "    .dataframe tbody tr th {\n",
       "        vertical-align: top;\n",
       "    }\n",
       "\n",
       "    .dataframe thead th {\n",
       "        text-align: right;\n",
       "    }\n",
       "</style>\n",
       "<table border=\"1\" class=\"dataframe\">\n",
       "  <thead>\n",
       "    <tr style=\"text-align: right;\">\n",
       "      <th></th>\n",
       "      <th>url</th>\n",
       "      <th>timedelta</th>\n",
       "      <th>n_tokens_title</th>\n",
       "      <th>n_tokens_content</th>\n",
       "      <th>n_unique_tokens</th>\n",
       "      <th>n_non_stop_words</th>\n",
       "      <th>n_non_stop_unique_tokens</th>\n",
       "      <th>num_hrefs</th>\n",
       "      <th>num_self_hrefs</th>\n",
       "      <th>num_imgs</th>\n",
       "      <th>...</th>\n",
       "      <th>min_positive_polarity</th>\n",
       "      <th>max_positive_polarity</th>\n",
       "      <th>avg_negative_polarity</th>\n",
       "      <th>min_negative_polarity</th>\n",
       "      <th>max_negative_polarity</th>\n",
       "      <th>title_subjectivity</th>\n",
       "      <th>title_sentiment_polarity</th>\n",
       "      <th>abs_title_subjectivity</th>\n",
       "      <th>abs_title_sentiment_polarity</th>\n",
       "      <th>shares</th>\n",
       "    </tr>\n",
       "  </thead>\n",
       "  <tbody>\n",
       "    <tr>\n",
       "      <th>0</th>\n",
       "      <td>http://mashable.com/2013/01/07/amazon-instant-...</td>\n",
       "      <td>731.0</td>\n",
       "      <td>12.0</td>\n",
       "      <td>219.0</td>\n",
       "      <td>0.663594</td>\n",
       "      <td>1.0</td>\n",
       "      <td>0.815385</td>\n",
       "      <td>4.0</td>\n",
       "      <td>2.0</td>\n",
       "      <td>1.0</td>\n",
       "      <td>...</td>\n",
       "      <td>0.100000</td>\n",
       "      <td>0.7</td>\n",
       "      <td>-0.350000</td>\n",
       "      <td>-0.600</td>\n",
       "      <td>-0.200000</td>\n",
       "      <td>0.500000</td>\n",
       "      <td>-0.187500</td>\n",
       "      <td>0.000000</td>\n",
       "      <td>0.187500</td>\n",
       "      <td>593</td>\n",
       "    </tr>\n",
       "    <tr>\n",
       "      <th>1</th>\n",
       "      <td>http://mashable.com/2013/01/07/ap-samsung-spon...</td>\n",
       "      <td>731.0</td>\n",
       "      <td>9.0</td>\n",
       "      <td>255.0</td>\n",
       "      <td>0.604743</td>\n",
       "      <td>1.0</td>\n",
       "      <td>0.791946</td>\n",
       "      <td>3.0</td>\n",
       "      <td>1.0</td>\n",
       "      <td>1.0</td>\n",
       "      <td>...</td>\n",
       "      <td>0.033333</td>\n",
       "      <td>0.7</td>\n",
       "      <td>-0.118750</td>\n",
       "      <td>-0.125</td>\n",
       "      <td>-0.100000</td>\n",
       "      <td>0.000000</td>\n",
       "      <td>0.000000</td>\n",
       "      <td>0.500000</td>\n",
       "      <td>0.000000</td>\n",
       "      <td>711</td>\n",
       "    </tr>\n",
       "    <tr>\n",
       "      <th>2</th>\n",
       "      <td>http://mashable.com/2013/01/07/apple-40-billio...</td>\n",
       "      <td>731.0</td>\n",
       "      <td>9.0</td>\n",
       "      <td>211.0</td>\n",
       "      <td>0.575130</td>\n",
       "      <td>1.0</td>\n",
       "      <td>0.663866</td>\n",
       "      <td>3.0</td>\n",
       "      <td>1.0</td>\n",
       "      <td>1.0</td>\n",
       "      <td>...</td>\n",
       "      <td>0.100000</td>\n",
       "      <td>1.0</td>\n",
       "      <td>-0.466667</td>\n",
       "      <td>-0.800</td>\n",
       "      <td>-0.133333</td>\n",
       "      <td>0.000000</td>\n",
       "      <td>0.000000</td>\n",
       "      <td>0.500000</td>\n",
       "      <td>0.000000</td>\n",
       "      <td>1500</td>\n",
       "    </tr>\n",
       "    <tr>\n",
       "      <th>3</th>\n",
       "      <td>http://mashable.com/2013/01/07/astronaut-notre...</td>\n",
       "      <td>731.0</td>\n",
       "      <td>9.0</td>\n",
       "      <td>531.0</td>\n",
       "      <td>0.503788</td>\n",
       "      <td>1.0</td>\n",
       "      <td>0.665635</td>\n",
       "      <td>9.0</td>\n",
       "      <td>0.0</td>\n",
       "      <td>1.0</td>\n",
       "      <td>...</td>\n",
       "      <td>0.136364</td>\n",
       "      <td>0.8</td>\n",
       "      <td>-0.369697</td>\n",
       "      <td>-0.600</td>\n",
       "      <td>-0.166667</td>\n",
       "      <td>0.000000</td>\n",
       "      <td>0.000000</td>\n",
       "      <td>0.500000</td>\n",
       "      <td>0.000000</td>\n",
       "      <td>1200</td>\n",
       "    </tr>\n",
       "    <tr>\n",
       "      <th>4</th>\n",
       "      <td>http://mashable.com/2013/01/07/att-u-verse-apps/</td>\n",
       "      <td>731.0</td>\n",
       "      <td>13.0</td>\n",
       "      <td>1072.0</td>\n",
       "      <td>0.415646</td>\n",
       "      <td>1.0</td>\n",
       "      <td>0.540890</td>\n",
       "      <td>19.0</td>\n",
       "      <td>19.0</td>\n",
       "      <td>20.0</td>\n",
       "      <td>...</td>\n",
       "      <td>0.033333</td>\n",
       "      <td>1.0</td>\n",
       "      <td>-0.220192</td>\n",
       "      <td>-0.500</td>\n",
       "      <td>-0.050000</td>\n",
       "      <td>0.454545</td>\n",
       "      <td>0.136364</td>\n",
       "      <td>0.045455</td>\n",
       "      <td>0.136364</td>\n",
       "      <td>505</td>\n",
       "    </tr>\n",
       "  </tbody>\n",
       "</table>\n",
       "<p>5 rows × 61 columns</p>\n",
       "</div>"
      ],
      "text/plain": [
       "                                                 url   timedelta  \\\n",
       "0  http://mashable.com/2013/01/07/amazon-instant-...       731.0   \n",
       "1  http://mashable.com/2013/01/07/ap-samsung-spon...       731.0   \n",
       "2  http://mashable.com/2013/01/07/apple-40-billio...       731.0   \n",
       "3  http://mashable.com/2013/01/07/astronaut-notre...       731.0   \n",
       "4   http://mashable.com/2013/01/07/att-u-verse-apps/       731.0   \n",
       "\n",
       "    n_tokens_title   n_tokens_content   n_unique_tokens   n_non_stop_words  \\\n",
       "0             12.0              219.0          0.663594                1.0   \n",
       "1              9.0              255.0          0.604743                1.0   \n",
       "2              9.0              211.0          0.575130                1.0   \n",
       "3              9.0              531.0          0.503788                1.0   \n",
       "4             13.0             1072.0          0.415646                1.0   \n",
       "\n",
       "    n_non_stop_unique_tokens   num_hrefs   num_self_hrefs   num_imgs  ...  \\\n",
       "0                   0.815385         4.0              2.0        1.0  ...   \n",
       "1                   0.791946         3.0              1.0        1.0  ...   \n",
       "2                   0.663866         3.0              1.0        1.0  ...   \n",
       "3                   0.665635         9.0              0.0        1.0  ...   \n",
       "4                   0.540890        19.0             19.0       20.0  ...   \n",
       "\n",
       "    min_positive_polarity   max_positive_polarity   avg_negative_polarity  \\\n",
       "0                0.100000                     0.7               -0.350000   \n",
       "1                0.033333                     0.7               -0.118750   \n",
       "2                0.100000                     1.0               -0.466667   \n",
       "3                0.136364                     0.8               -0.369697   \n",
       "4                0.033333                     1.0               -0.220192   \n",
       "\n",
       "    min_negative_polarity   max_negative_polarity   title_subjectivity  \\\n",
       "0                  -0.600               -0.200000             0.500000   \n",
       "1                  -0.125               -0.100000             0.000000   \n",
       "2                  -0.800               -0.133333             0.000000   \n",
       "3                  -0.600               -0.166667             0.000000   \n",
       "4                  -0.500               -0.050000             0.454545   \n",
       "\n",
       "    title_sentiment_polarity   abs_title_subjectivity  \\\n",
       "0                  -0.187500                 0.000000   \n",
       "1                   0.000000                 0.500000   \n",
       "2                   0.000000                 0.500000   \n",
       "3                   0.000000                 0.500000   \n",
       "4                   0.136364                 0.045455   \n",
       "\n",
       "    abs_title_sentiment_polarity   shares  \n",
       "0                       0.187500      593  \n",
       "1                       0.000000      711  \n",
       "2                       0.000000     1500  \n",
       "3                       0.000000     1200  \n",
       "4                       0.136364      505  \n",
       "\n",
       "[5 rows x 61 columns]"
      ]
     },
     "execution_count": 7,
     "metadata": {},
     "output_type": "execute_result"
    }
   ],
   "source": [
    "data.head()"
   ]
  },
  {
   "cell_type": "markdown",
   "id": "e4e6b691",
   "metadata": {},
   "source": [
    "# 1. Problem statement"
   ]
  },
  {
   "cell_type": "markdown",
   "id": "d70a56ea",
   "metadata": {},
   "source": [
    "    1)Choice of an interesting, modern, useful application. Preferably not a first-world problem.\n",
    "\n",
    "    2)Clear, concise description of the problem statement, its importance, and difficulties associated with it.\n",
    "\n",
    "    3)Clear objectives: state whether the focus is prediction accuracy and/or interpretation, regression or classification? Try to limit the scope.\n",
    "\n",
    "    4)Remember to provide references of work in the literature related to the problem of interest. You\n",
    "    have to research what has already been done in the field.\n",
    "    \n",
    "    5)End with all references for the current approach."
   ]
  },
  {
   "cell_type": "markdown",
   "id": "cfef1865",
   "metadata": {},
   "source": []
  },
  {
   "cell_type": "markdown",
   "id": "d00f84d6",
   "metadata": {},
   "source": [
    "# 2. Data description"
   ]
  },
  {
   "cell_type": "markdown",
   "id": "0fc1eef0",
   "metadata": {},
   "source": [
    "### Conciseness and clarity of the data description, including:\n",
    "\n",
    "    (1)The data source (include references)\n",
    "    \n",
    "    (2)The size of n and p, the response, and a concise summary of the types of predictors (an idea of what kinds of measurements were taken, how many numeric, and how many categorical). Partitioning of the data into   training-and test sets. In classification: are there class imbalances?\n",
    "\n",
    "    (3)Remarks regarding potential data problems (outliers, missing values, omitted variables, etc.)"
   ]
  },
  {
   "cell_type": "markdown",
   "id": "7bb5931d",
   "metadata": {},
   "source": [
    "# 3. The current approach"
   ]
  },
  {
   "cell_type": "markdown",
   "id": "7911fed5",
   "metadata": {},
   "source": [
    "    (1) Section 3 should be easy to follow and make sense to someone new to the problem.\n",
    "    \n",
    "    (2)Focus only on the key steps and hide unnecessary detail.\n",
    "    \n",
    "    (3)Include flow diagrams/graphs/tables that clarify the process. Clearly indicate whether the training- or test data was used in each step.\n",
    "\n",
    "    (4)Include the types of models considered, whether variable selection/dimension reduction were considered, and parameter values considered when tuning models\n",
    "\n",
    "    (5)Include motivations/your critique with respect to each modelling aspect."
   ]
  },
  {
   "cell_type": "markdown",
   "id": "db6d948c",
   "metadata": {},
   "source": [
    "# 4. Potential problems with the current approach"
   ]
  },
  {
   "cell_type": "markdown",
   "id": "4e85a2a1",
   "metadata": {},
   "source": [
    "    (1)Provide a summary of each step in the current approach.\n",
    "\n",
    "    (2)Summarise potential problems or shortcomings with the current approach (or motivate why there aren’t any).\n",
    "\n",
    "    (3)Identify options for extending the current approach or outcomes, and their potential benefits. All considered options should be sensible and well motivated.\n",
    "\n",
    "    (4) Show creative/innovative/critical thinking: what steps could have been omitted, what steps could have been added, what other aspects could have been addressed? Select the options in (2)-(4) to be furtherinvestigated, and motivate your choices."
   ]
  },
  {
   "cell_type": "markdown",
   "id": "baeacfe1",
   "metadata": {},
   "source": [
    "# 5. The new approach"
   ]
  },
  {
   "cell_type": "markdown",
   "id": "241d85d6",
   "metadata": {},
   "source": [
    "    (1)Start with a summary of the new approach.\n",
    "\n",
    "    (2)Cover all important modelling aspects. Mention all options that were investigated. Hide unnecessary detail. Do not elaborate on options that were investigated, but that did not lead to improvements.\n",
    "\n",
    "    (3)Use tables/figures/graphs to highlight the effects of changes to the current approach."
   ]
  },
  {
   "cell_type": "markdown",
   "id": "f65f6557",
   "metadata": {},
   "source": [
    "# 6. A comparison of model results"
   ]
  },
  {
   "cell_type": "markdown",
   "id": "967d4052",
   "metadata": {},
   "source": [
    "    (1) If appropriate, a comparison of results in terms of both prediction accuracy and interpretation. Appropriate performance measures.\n",
    "   \n",
    "    (2) In summary format (results of both approaches in table format). Include figures.\n",
    "\n",
    "    (3) Highlight improvements in your discussion (lead the reader through the results and to a conclusion)."
   ]
  },
  {
   "cell_type": "markdown",
   "id": "2773edea",
   "metadata": {},
   "source": [
    "# 7. Actionable insights"
   ]
  },
  {
   "cell_type": "markdown",
   "id": "899c7070",
   "metadata": {},
   "source": [
    "Answer the “so what?” question. How can the new\n",
    "approach be used to make a difference?"
   ]
  },
  {
   "cell_type": "markdown",
   "id": "e87e4581",
   "metadata": {},
   "source": [
    "# 8. Reflection"
   ]
  },
  {
   "cell_type": "markdown",
   "id": "0a7ab0d3",
   "metadata": {},
   "source": [
    "Briefly indicate what you have learnt. What worked\n",
    "well, or what would you like to change ‘next time’? If\n",
    "you had more time, what would you further consider\n",
    "or might a team member want to improve upon when\n",
    "considering the project?"
   ]
  },
  {
   "cell_type": "code",
   "execution_count": null,
   "id": "0130d8c6",
   "metadata": {},
   "outputs": [],
   "source": []
  }
 ],
 "metadata": {
  "kernelspec": {
   "display_name": "Python 3 (ipykernel)",
   "language": "python",
   "name": "python3"
  },
  "language_info": {
   "codemirror_mode": {
    "name": "ipython",
    "version": 3
   },
   "file_extension": ".py",
   "mimetype": "text/x-python",
   "name": "python",
   "nbconvert_exporter": "python",
   "pygments_lexer": "ipython3",
   "version": "3.11.3"
  }
 },
 "nbformat": 4,
 "nbformat_minor": 5
}
