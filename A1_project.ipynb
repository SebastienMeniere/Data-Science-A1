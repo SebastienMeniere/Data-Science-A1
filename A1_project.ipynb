{
 "cells": [
  {
   "cell_type": "code",
   "execution_count": 2,
   "id": "dd8640a4",
   "metadata": {},
   "outputs": [
    {
     "name": "stdout",
     "output_type": "stream",
     "text": [
      "/Users/sebastienm/.zshenv:1: bad assignment\n",
      "Collecting ucimlrepo\n",
      "  Downloading ucimlrepo-0.0.6-py3-none-any.whl (8.0 kB)\n",
      "Installing collected packages: ucimlrepo\n",
      "Successfully installed ucimlrepo-0.0.6\n",
      "Note: you may need to restart the kernel to use updated packages.\n"
     ]
    }
   ],
   "source": [
    "pip install ucimlrepo"
   ]
  },
  {
   "cell_type": "code",
   "execution_count": 152,
   "id": "c447f317",
   "metadata": {},
   "outputs": [],
   "source": [
    "import pandas as pd\n",
    "import numpy as np\n",
    "import matplotlib.pyplot as plt"
   ]
  },
  {
   "cell_type": "code",
   "execution_count": 163,
   "id": "385f4f95",
   "metadata": {},
   "outputs": [],
   "source": [
    "data =(pd.read_csv(\"OnlineNewsPopularity/OnlineNewsPopularity.csv\"))"
   ]
  },
  {
   "cell_type": "code",
   "execution_count": null,
   "id": "7abae357",
   "metadata": {},
   "outputs": [],
   "source": []
  },
  {
   "cell_type": "markdown",
   "id": "e4e6b691",
   "metadata": {},
   "source": [
    "# 1. Problem statement"
   ]
  },
  {
   "cell_type": "markdown",
   "id": "d70a56ea",
   "metadata": {},
   "source": [
    "    1)Choice of an interesting, modern, useful application. Preferably not a first-world problem.\n",
    "\n",
    "    2)Clear, concise description of the problem statement, its importance, and difficulties associated with it.\n",
    "\n",
    "    3)Clear objectives: state whether the focus is prediction accuracy and/or interpretation, regression or classification? Try to limit the scope.\n",
    "\n",
    "    4)Remember to provide references of work in the literature related to the problem of interest. You\n",
    "    have to research what has already been done in the field.\n",
    "    \n",
    "    5)End with all references for the current approach."
   ]
  },
  {
   "cell_type": "markdown",
   "id": "cfef1865",
   "metadata": {},
   "source": [
    "We have chosen to focus our research and statistical learning application in the domain of social networks. Specifically with regards to predicting online social behavoir, in the form of identifying which pieces of media are likely to gain popularity. \n",
    "\n",
    "Popularity prediction, or virality prediction, is the practice of using some predictive / regession model trained to predict wether a new piece of online media will go viral, which is to say that it will be viewed by a large amount of people. The most common / recognised mechanism for internet content to attain virality is though shares. When users send the article, video, tweet to other users, who might in turn do the same. \n",
    "\n",
    "importance:\n",
    "-Enhancing News Relevance\n",
    "-Audience Engagement\n",
    "-Rising Importance of Digital Media Literacy\n",
    "-Erosion of Trust in Media\n",
    "-Political Polarization and Disinformation Campaigns\n",
    "-Resilience Against Information Warfare\n",
    "\n",
    "difficulties:\n",
    "-interpretation \n",
    "-constant changes in public appeal and opinions \n",
    "-data collection <- tracking if media is shared (mostly off socail media platforms)\n",
    "\n",
    "\n",
    "Therefore the goal is it create a model that is capable of predicting what content will recive the most shares. \n",
    "\n",
    "\n",
    "With the goal in hand, we searched and found a data set that summarized features of thousands of aritcles published by the news / media platform mashable. Then we will be attempting to improve upon the methods of ernandes, Kelwin, Pedro Vinagre, and Paulo Cortez. \"A proactive intelligent decision support system for predicting the popularity of online news.\" In Portuguese Conference on Artificial Intelligence, pp. 535-546. Springer, Cham, 2015.\n",
    "### TODO add refs to other literature in this field"
   ]
  },
  {
   "cell_type": "markdown",
   "id": "d00f84d6",
   "metadata": {},
   "source": [
    "# 2. Data description"
   ]
  },
  {
   "cell_type": "markdown",
   "id": "0fc1eef0",
   "metadata": {},
   "source": [
    "### Conciseness and clarity of the data description, including:\n",
    "\n",
    "    (1)The data source (include references)\n",
    "    \n",
    "    (2)The size of n and p, the response, and a concise summary of the types of predictors (an idea of what kinds of measurements were taken, how many numeric, and how many categorical). Partitioning of the data into   training-and test sets. In classification: are there class imbalances?\n",
    "\n",
    "    (3)Remarks regarding potential data problems (outliers, missing values, omitted variables, etc.)"
   ]
  },
  {
   "cell_type": "markdown",
   "id": "f3ff4d12",
   "metadata": {},
   "source": [
    "The data contains 39644 observations, and 61 features. Some of the predictors are non-informative, and will be removed, this includes the url feature, that just contains the link to the article. All of the predictors are numerical, which some being continuous, some strictly integer, and some categorical. \n",
    "\n",
    "The features are summarises of the various aspects of a new / media article, this includes, but not limited to, date of publication, number of words in the title or in the body, keywords used, seniment of the words used, subjectivity rating, political polarity rating, number of images and videos. These are a few example, to demonstrate the feature / predictor space. \n",
    "\n",
    "we will be following a similary methodology to the current model, in which the target variable is to be paritioned into varying degress of popularity based on the integer value of the target, shares, variable. This way we can apply classification models to the data. \n",
    "\n",
    "There are no missing values, however in the partitioning step, which we will expand upon later, we do have an imbalance in the number of observations per class. There are some potencial outliers, instances where the number of shares is far far greater than many standard deviations from the mean. "
   ]
  },
  {
   "cell_type": "code",
   "execution_count": 179,
   "id": "6262cb84",
   "metadata": {},
   "outputs": [
    {
     "data": {
      "text/html": [
       "<div>\n",
       "<style scoped>\n",
       "    .dataframe tbody tr th:only-of-type {\n",
       "        vertical-align: middle;\n",
       "    }\n",
       "\n",
       "    .dataframe tbody tr th {\n",
       "        vertical-align: top;\n",
       "    }\n",
       "\n",
       "    .dataframe thead th {\n",
       "        text-align: right;\n",
       "    }\n",
       "</style>\n",
       "<table border=\"1\" class=\"dataframe\">\n",
       "  <thead>\n",
       "    <tr style=\"text-align: right;\">\n",
       "      <th></th>\n",
       "      <th>url</th>\n",
       "      <th>timedelta</th>\n",
       "      <th>n_tokens_title</th>\n",
       "      <th>n_tokens_content</th>\n",
       "      <th>n_unique_tokens</th>\n",
       "      <th>n_non_stop_words</th>\n",
       "      <th>n_non_stop_unique_tokens</th>\n",
       "      <th>num_hrefs</th>\n",
       "      <th>num_self_hrefs</th>\n",
       "      <th>num_imgs</th>\n",
       "      <th>...</th>\n",
       "      <th>min_positive_polarity</th>\n",
       "      <th>max_positive_polarity</th>\n",
       "      <th>avg_negative_polarity</th>\n",
       "      <th>min_negative_polarity</th>\n",
       "      <th>max_negative_polarity</th>\n",
       "      <th>title_subjectivity</th>\n",
       "      <th>title_sentiment_polarity</th>\n",
       "      <th>abs_title_subjectivity</th>\n",
       "      <th>abs_title_sentiment_polarity</th>\n",
       "      <th>shares</th>\n",
       "    </tr>\n",
       "  </thead>\n",
       "  <tbody>\n",
       "    <tr>\n",
       "      <th>0</th>\n",
       "      <td>http://mashable.com/2013/01/07/amazon-instant-...</td>\n",
       "      <td>731.0</td>\n",
       "      <td>12.0</td>\n",
       "      <td>219.0</td>\n",
       "      <td>0.663594</td>\n",
       "      <td>1.0</td>\n",
       "      <td>0.815385</td>\n",
       "      <td>4.0</td>\n",
       "      <td>2.0</td>\n",
       "      <td>1.0</td>\n",
       "      <td>...</td>\n",
       "      <td>0.100000</td>\n",
       "      <td>0.70</td>\n",
       "      <td>-0.350000</td>\n",
       "      <td>-0.600</td>\n",
       "      <td>-0.200000</td>\n",
       "      <td>0.500000</td>\n",
       "      <td>-0.187500</td>\n",
       "      <td>0.000000</td>\n",
       "      <td>0.187500</td>\n",
       "      <td>593</td>\n",
       "    </tr>\n",
       "    <tr>\n",
       "      <th>1</th>\n",
       "      <td>http://mashable.com/2013/01/07/ap-samsung-spon...</td>\n",
       "      <td>731.0</td>\n",
       "      <td>9.0</td>\n",
       "      <td>255.0</td>\n",
       "      <td>0.604743</td>\n",
       "      <td>1.0</td>\n",
       "      <td>0.791946</td>\n",
       "      <td>3.0</td>\n",
       "      <td>1.0</td>\n",
       "      <td>1.0</td>\n",
       "      <td>...</td>\n",
       "      <td>0.033333</td>\n",
       "      <td>0.70</td>\n",
       "      <td>-0.118750</td>\n",
       "      <td>-0.125</td>\n",
       "      <td>-0.100000</td>\n",
       "      <td>0.000000</td>\n",
       "      <td>0.000000</td>\n",
       "      <td>0.500000</td>\n",
       "      <td>0.000000</td>\n",
       "      <td>711</td>\n",
       "    </tr>\n",
       "    <tr>\n",
       "      <th>2</th>\n",
       "      <td>http://mashable.com/2013/01/07/apple-40-billio...</td>\n",
       "      <td>731.0</td>\n",
       "      <td>9.0</td>\n",
       "      <td>211.0</td>\n",
       "      <td>0.575130</td>\n",
       "      <td>1.0</td>\n",
       "      <td>0.663866</td>\n",
       "      <td>3.0</td>\n",
       "      <td>1.0</td>\n",
       "      <td>1.0</td>\n",
       "      <td>...</td>\n",
       "      <td>0.100000</td>\n",
       "      <td>1.00</td>\n",
       "      <td>-0.466667</td>\n",
       "      <td>-0.800</td>\n",
       "      <td>-0.133333</td>\n",
       "      <td>0.000000</td>\n",
       "      <td>0.000000</td>\n",
       "      <td>0.500000</td>\n",
       "      <td>0.000000</td>\n",
       "      <td>1500</td>\n",
       "    </tr>\n",
       "    <tr>\n",
       "      <th>3</th>\n",
       "      <td>http://mashable.com/2013/01/07/astronaut-notre...</td>\n",
       "      <td>731.0</td>\n",
       "      <td>9.0</td>\n",
       "      <td>531.0</td>\n",
       "      <td>0.503788</td>\n",
       "      <td>1.0</td>\n",
       "      <td>0.665635</td>\n",
       "      <td>9.0</td>\n",
       "      <td>0.0</td>\n",
       "      <td>1.0</td>\n",
       "      <td>...</td>\n",
       "      <td>0.136364</td>\n",
       "      <td>0.80</td>\n",
       "      <td>-0.369697</td>\n",
       "      <td>-0.600</td>\n",
       "      <td>-0.166667</td>\n",
       "      <td>0.000000</td>\n",
       "      <td>0.000000</td>\n",
       "      <td>0.500000</td>\n",
       "      <td>0.000000</td>\n",
       "      <td>1200</td>\n",
       "    </tr>\n",
       "    <tr>\n",
       "      <th>4</th>\n",
       "      <td>http://mashable.com/2013/01/07/att-u-verse-apps/</td>\n",
       "      <td>731.0</td>\n",
       "      <td>13.0</td>\n",
       "      <td>1072.0</td>\n",
       "      <td>0.415646</td>\n",
       "      <td>1.0</td>\n",
       "      <td>0.540890</td>\n",
       "      <td>19.0</td>\n",
       "      <td>19.0</td>\n",
       "      <td>20.0</td>\n",
       "      <td>...</td>\n",
       "      <td>0.033333</td>\n",
       "      <td>1.00</td>\n",
       "      <td>-0.220192</td>\n",
       "      <td>-0.500</td>\n",
       "      <td>-0.050000</td>\n",
       "      <td>0.454545</td>\n",
       "      <td>0.136364</td>\n",
       "      <td>0.045455</td>\n",
       "      <td>0.136364</td>\n",
       "      <td>505</td>\n",
       "    </tr>\n",
       "    <tr>\n",
       "      <th>...</th>\n",
       "      <td>...</td>\n",
       "      <td>...</td>\n",
       "      <td>...</td>\n",
       "      <td>...</td>\n",
       "      <td>...</td>\n",
       "      <td>...</td>\n",
       "      <td>...</td>\n",
       "      <td>...</td>\n",
       "      <td>...</td>\n",
       "      <td>...</td>\n",
       "      <td>...</td>\n",
       "      <td>...</td>\n",
       "      <td>...</td>\n",
       "      <td>...</td>\n",
       "      <td>...</td>\n",
       "      <td>...</td>\n",
       "      <td>...</td>\n",
       "      <td>...</td>\n",
       "      <td>...</td>\n",
       "      <td>...</td>\n",
       "      <td>...</td>\n",
       "    </tr>\n",
       "    <tr>\n",
       "      <th>39639</th>\n",
       "      <td>http://mashable.com/2014/12/27/samsung-app-aut...</td>\n",
       "      <td>8.0</td>\n",
       "      <td>11.0</td>\n",
       "      <td>346.0</td>\n",
       "      <td>0.529052</td>\n",
       "      <td>1.0</td>\n",
       "      <td>0.684783</td>\n",
       "      <td>9.0</td>\n",
       "      <td>7.0</td>\n",
       "      <td>1.0</td>\n",
       "      <td>...</td>\n",
       "      <td>0.100000</td>\n",
       "      <td>0.75</td>\n",
       "      <td>-0.260000</td>\n",
       "      <td>-0.500</td>\n",
       "      <td>-0.125000</td>\n",
       "      <td>0.100000</td>\n",
       "      <td>0.000000</td>\n",
       "      <td>0.400000</td>\n",
       "      <td>0.000000</td>\n",
       "      <td>1800</td>\n",
       "    </tr>\n",
       "    <tr>\n",
       "      <th>39640</th>\n",
       "      <td>http://mashable.com/2014/12/27/seth-rogen-jame...</td>\n",
       "      <td>8.0</td>\n",
       "      <td>12.0</td>\n",
       "      <td>328.0</td>\n",
       "      <td>0.696296</td>\n",
       "      <td>1.0</td>\n",
       "      <td>0.885057</td>\n",
       "      <td>9.0</td>\n",
       "      <td>7.0</td>\n",
       "      <td>3.0</td>\n",
       "      <td>...</td>\n",
       "      <td>0.136364</td>\n",
       "      <td>0.70</td>\n",
       "      <td>-0.211111</td>\n",
       "      <td>-0.400</td>\n",
       "      <td>-0.100000</td>\n",
       "      <td>0.300000</td>\n",
       "      <td>1.000000</td>\n",
       "      <td>0.200000</td>\n",
       "      <td>1.000000</td>\n",
       "      <td>1900</td>\n",
       "    </tr>\n",
       "    <tr>\n",
       "      <th>39641</th>\n",
       "      <td>http://mashable.com/2014/12/27/son-pays-off-mo...</td>\n",
       "      <td>8.0</td>\n",
       "      <td>10.0</td>\n",
       "      <td>442.0</td>\n",
       "      <td>0.516355</td>\n",
       "      <td>1.0</td>\n",
       "      <td>0.644128</td>\n",
       "      <td>24.0</td>\n",
       "      <td>1.0</td>\n",
       "      <td>12.0</td>\n",
       "      <td>...</td>\n",
       "      <td>0.136364</td>\n",
       "      <td>0.50</td>\n",
       "      <td>-0.356439</td>\n",
       "      <td>-0.800</td>\n",
       "      <td>-0.166667</td>\n",
       "      <td>0.454545</td>\n",
       "      <td>0.136364</td>\n",
       "      <td>0.045455</td>\n",
       "      <td>0.136364</td>\n",
       "      <td>1900</td>\n",
       "    </tr>\n",
       "    <tr>\n",
       "      <th>39642</th>\n",
       "      <td>http://mashable.com/2014/12/27/ukraine-blasts/</td>\n",
       "      <td>8.0</td>\n",
       "      <td>6.0</td>\n",
       "      <td>682.0</td>\n",
       "      <td>0.539493</td>\n",
       "      <td>1.0</td>\n",
       "      <td>0.692661</td>\n",
       "      <td>10.0</td>\n",
       "      <td>1.0</td>\n",
       "      <td>1.0</td>\n",
       "      <td>...</td>\n",
       "      <td>0.062500</td>\n",
       "      <td>0.50</td>\n",
       "      <td>-0.205246</td>\n",
       "      <td>-0.500</td>\n",
       "      <td>-0.012500</td>\n",
       "      <td>0.000000</td>\n",
       "      <td>0.000000</td>\n",
       "      <td>0.500000</td>\n",
       "      <td>0.000000</td>\n",
       "      <td>1100</td>\n",
       "    </tr>\n",
       "    <tr>\n",
       "      <th>39643</th>\n",
       "      <td>http://mashable.com/2014/12/27/youtube-channel...</td>\n",
       "      <td>8.0</td>\n",
       "      <td>10.0</td>\n",
       "      <td>157.0</td>\n",
       "      <td>0.701987</td>\n",
       "      <td>1.0</td>\n",
       "      <td>0.846154</td>\n",
       "      <td>1.0</td>\n",
       "      <td>1.0</td>\n",
       "      <td>0.0</td>\n",
       "      <td>...</td>\n",
       "      <td>0.100000</td>\n",
       "      <td>0.50</td>\n",
       "      <td>-0.200000</td>\n",
       "      <td>-0.200</td>\n",
       "      <td>-0.200000</td>\n",
       "      <td>0.333333</td>\n",
       "      <td>0.250000</td>\n",
       "      <td>0.166667</td>\n",
       "      <td>0.250000</td>\n",
       "      <td>1300</td>\n",
       "    </tr>\n",
       "  </tbody>\n",
       "</table>\n",
       "<p>39644 rows × 61 columns</p>\n",
       "</div>"
      ],
      "text/plain": [
       "                                                     url   timedelta  \\\n",
       "0      http://mashable.com/2013/01/07/amazon-instant-...       731.0   \n",
       "1      http://mashable.com/2013/01/07/ap-samsung-spon...       731.0   \n",
       "2      http://mashable.com/2013/01/07/apple-40-billio...       731.0   \n",
       "3      http://mashable.com/2013/01/07/astronaut-notre...       731.0   \n",
       "4       http://mashable.com/2013/01/07/att-u-verse-apps/       731.0   \n",
       "...                                                  ...         ...   \n",
       "39639  http://mashable.com/2014/12/27/samsung-app-aut...         8.0   \n",
       "39640  http://mashable.com/2014/12/27/seth-rogen-jame...         8.0   \n",
       "39641  http://mashable.com/2014/12/27/son-pays-off-mo...         8.0   \n",
       "39642     http://mashable.com/2014/12/27/ukraine-blasts/         8.0   \n",
       "39643  http://mashable.com/2014/12/27/youtube-channel...         8.0   \n",
       "\n",
       "        n_tokens_title   n_tokens_content   n_unique_tokens  \\\n",
       "0                 12.0              219.0          0.663594   \n",
       "1                  9.0              255.0          0.604743   \n",
       "2                  9.0              211.0          0.575130   \n",
       "3                  9.0              531.0          0.503788   \n",
       "4                 13.0             1072.0          0.415646   \n",
       "...                ...                ...               ...   \n",
       "39639             11.0              346.0          0.529052   \n",
       "39640             12.0              328.0          0.696296   \n",
       "39641             10.0              442.0          0.516355   \n",
       "39642              6.0              682.0          0.539493   \n",
       "39643             10.0              157.0          0.701987   \n",
       "\n",
       "        n_non_stop_words   n_non_stop_unique_tokens   num_hrefs  \\\n",
       "0                    1.0                   0.815385         4.0   \n",
       "1                    1.0                   0.791946         3.0   \n",
       "2                    1.0                   0.663866         3.0   \n",
       "3                    1.0                   0.665635         9.0   \n",
       "4                    1.0                   0.540890        19.0   \n",
       "...                  ...                        ...         ...   \n",
       "39639                1.0                   0.684783         9.0   \n",
       "39640                1.0                   0.885057         9.0   \n",
       "39641                1.0                   0.644128        24.0   \n",
       "39642                1.0                   0.692661        10.0   \n",
       "39643                1.0                   0.846154         1.0   \n",
       "\n",
       "        num_self_hrefs   num_imgs  ...   min_positive_polarity  \\\n",
       "0                  2.0        1.0  ...                0.100000   \n",
       "1                  1.0        1.0  ...                0.033333   \n",
       "2                  1.0        1.0  ...                0.100000   \n",
       "3                  0.0        1.0  ...                0.136364   \n",
       "4                 19.0       20.0  ...                0.033333   \n",
       "...                ...        ...  ...                     ...   \n",
       "39639              7.0        1.0  ...                0.100000   \n",
       "39640              7.0        3.0  ...                0.136364   \n",
       "39641              1.0       12.0  ...                0.136364   \n",
       "39642              1.0        1.0  ...                0.062500   \n",
       "39643              1.0        0.0  ...                0.100000   \n",
       "\n",
       "        max_positive_polarity   avg_negative_polarity   min_negative_polarity  \\\n",
       "0                        0.70               -0.350000                  -0.600   \n",
       "1                        0.70               -0.118750                  -0.125   \n",
       "2                        1.00               -0.466667                  -0.800   \n",
       "3                        0.80               -0.369697                  -0.600   \n",
       "4                        1.00               -0.220192                  -0.500   \n",
       "...                       ...                     ...                     ...   \n",
       "39639                    0.75               -0.260000                  -0.500   \n",
       "39640                    0.70               -0.211111                  -0.400   \n",
       "39641                    0.50               -0.356439                  -0.800   \n",
       "39642                    0.50               -0.205246                  -0.500   \n",
       "39643                    0.50               -0.200000                  -0.200   \n",
       "\n",
       "        max_negative_polarity   title_subjectivity   title_sentiment_polarity  \\\n",
       "0                   -0.200000             0.500000                  -0.187500   \n",
       "1                   -0.100000             0.000000                   0.000000   \n",
       "2                   -0.133333             0.000000                   0.000000   \n",
       "3                   -0.166667             0.000000                   0.000000   \n",
       "4                   -0.050000             0.454545                   0.136364   \n",
       "...                       ...                  ...                        ...   \n",
       "39639               -0.125000             0.100000                   0.000000   \n",
       "39640               -0.100000             0.300000                   1.000000   \n",
       "39641               -0.166667             0.454545                   0.136364   \n",
       "39642               -0.012500             0.000000                   0.000000   \n",
       "39643               -0.200000             0.333333                   0.250000   \n",
       "\n",
       "        abs_title_subjectivity   abs_title_sentiment_polarity   shares  \n",
       "0                     0.000000                       0.187500      593  \n",
       "1                     0.500000                       0.000000      711  \n",
       "2                     0.500000                       0.000000     1500  \n",
       "3                     0.500000                       0.000000     1200  \n",
       "4                     0.045455                       0.136364      505  \n",
       "...                        ...                            ...      ...  \n",
       "39639                 0.400000                       0.000000     1800  \n",
       "39640                 0.200000                       1.000000     1900  \n",
       "39641                 0.045455                       0.136364     1900  \n",
       "39642                 0.500000                       0.000000     1100  \n",
       "39643                 0.166667                       0.250000     1300  \n",
       "\n",
       "[39644 rows x 61 columns]"
      ]
     },
     "execution_count": 179,
     "metadata": {},
     "output_type": "execute_result"
    }
   ],
   "source": [
    "data"
   ]
  },
  {
   "cell_type": "code",
   "execution_count": 180,
   "id": "32df5ec4",
   "metadata": {},
   "outputs": [],
   "source": [
    "time = data[' timedelta']"
   ]
  },
  {
   "cell_type": "code",
   "execution_count": 184,
   "id": "28d863cd",
   "metadata": {},
   "outputs": [
    {
     "data": {
      "text/plain": [
       "<function matplotlib.pyplot.show(close=None, block=None)>"
      ]
     },
     "execution_count": 184,
     "metadata": {},
     "output_type": "execute_result"
    },
    {
     "data": {
      "image/png": "[encoded data removed]",
      "text/plain": [
       "<Figure size 640x480 with 1 Axes>"
      ]
     },
     "metadata": {},
     "output_type": "display_data"
    }
   ],
   "source": [
    "plt.scatter(np.log(time), shares, alpha = 0.5)\n",
    "plt.show"
   ]
  },
  {
   "cell_type": "code",
   "execution_count": 178,
   "id": "730deab1",
   "metadata": {},
   "outputs": [
    {
     "data": {
      "text/plain": [
       "<function matplotlib.pyplot.show(close=None, block=None)>"
      ]
     },
     "execution_count": 178,
     "metadata": {},
     "output_type": "execute_result"
    },
    {
     "data": {
      "image/png": "[encoded data removed]",
      "text/plain": [
       "<Figure size 640x480 with 1 Axes>"
      ]
     },
     "metadata": {},
     "output_type": "display_data"
    }
   ],
   "source": [
    "shares = data[[\" shares\"]]\n",
    "plt.hist(shares, 100)\n",
    "plt.show"
   ]
  },
  {
   "cell_type": "markdown",
   "id": "7bb5931d",
   "metadata": {},
   "source": [
    "# 3. The current approach"
   ]
  },
  {
   "cell_type": "markdown",
   "id": "7911fed5",
   "metadata": {},
   "source": [
    "    (1) Section 3 should be easy to follow and make sense to someone new to the problem.\n",
    "    \n",
    "    (2)Focus only on the key steps and hide unnecessary detail.\n",
    "    \n",
    "    (3)Include flow diagrams/graphs/tables that clarify the process. Clearly indicate whether the training- or test data was used in each step.\n",
    "\n",
    "    (4)Include the types of models considered, whether variable selection/dimension reduction were considered, and parameter values considered when tuning models\n",
    "\n",
    "    (5)Include motivations/your critique with respect to each modelling aspect."
   ]
  },
  {
   "cell_type": "markdown",
   "id": "6bf20e57",
   "metadata": {},
   "source": [
    "The current approach\n",
    "    - classification to predict the popularity of the online news.\n",
    "    - Random Forest, Bayes Net, Logistic Function, C4.5 and Simple Cart.\n",
    "    - The performance of the five models is evaluated by some of the most popular metrics such as Accuracy, Root Mean Square Error (RMSE), Kappa Statistic, TP-Rate, FP-Rate, Precision, F-Measure and ROC Area values.\n",
    "    - feature filtering techniques are applied in the study to improve the model's performance\n",
    "    -  Moreover, for dividing the dataset into a training and testing set, 10-fold cross- validation was used.\n",
    "    "
   ]
  },
  {
   "cell_type": "markdown",
   "id": "792786b0",
   "metadata": {},
   "source": [
    "The methodology for the current model is as follows:\n",
    "\n",
    "preprocessing:\n",
    "\n",
    "The author starts by transforming the numerical target variable, sales, into a binary categorical variable. The two classes are \"Yes\" indicating a high number of shares and \"No\" indicating a low number of shares. A high number of shares is defined as being greater than of equal to 1400, it is unclear how the author came to chose this as the class separation value, and further investigation into differnt boundry values will be discussed later in our approach. \n",
    "\n",
    "This categorization of the data leads to very similar sizes in observations of \"Yes\" and \"No\", but the difference is resolved by taking a balanced subset of the original data. \n",
    "\n",
    "there are no missing values or uneven columns in the data, therefore this completed the preprocessing stage. \n",
    "\n",
    "Constructing the classification models:\n",
    "\n",
    "The paper contains five classification models, and \n",
    "\n"
   ]
  },
  {
   "cell_type": "markdown",
   "id": "db6d948c",
   "metadata": {},
   "source": [
    "# 4. Potential problems with the current approach"
   ]
  },
  {
   "cell_type": "markdown",
   "id": "4e85a2a1",
   "metadata": {},
   "source": [
    "    (1)Provide a summary of each step in the current approach.\n",
    "\n",
    "    (2)Summarise potential problems or shortcomings with the current approach (or motivate why there aren’t any).\n",
    "\n",
    "    (3)Identify options for extending the current approach or outcomes, and their potential benefits. All considered options should be sensible and well motivated.\n",
    "\n",
    "    (4) Show creative/innovative/critical thinking: what steps could have been omitted, what steps could have been added, what other aspects could have been addressed? Select the options in (2)-(4) to be furtherinvestigated, and motivate your choices."
   ]
  },
  {
   "cell_type": "markdown",
   "id": "baeacfe1",
   "metadata": {},
   "source": [
    "# 5. The new approach"
   ]
  },
  {
   "cell_type": "markdown",
   "id": "241d85d6",
   "metadata": {},
   "source": [
    "    (1)Start with a summary of the new approach.\n",
    "\n",
    "    (2)Cover all important modelling aspects. Mention all options that were investigated. Hide unnecessary detail. Do not elaborate on options that were investigated, but that did not lead to improvements.\n",
    "\n",
    "    (3)Use tables/figures/graphs to highlight the effects of changes to the current approach."
   ]
  },
  {
   "cell_type": "markdown",
   "id": "f65f6557",
   "metadata": {},
   "source": [
    "# 6. A comparison of model results"
   ]
  },
  {
   "cell_type": "markdown",
   "id": "967d4052",
   "metadata": {},
   "source": [
    "    (1) If appropriate, a comparison of results in terms of both prediction accuracy and interpretation. Appropriate performance measures.\n",
    "   \n",
    "    (2) In summary format (results of both approaches in table format). Include figures.\n",
    "\n",
    "    (3) Highlight improvements in your discussion (lead the reader through the results and to a conclusion)."
   ]
  },
  {
   "cell_type": "markdown",
   "id": "2773edea",
   "metadata": {},
   "source": [
    "# 7. Actionable insights"
   ]
  },
  {
   "cell_type": "markdown",
   "id": "899c7070",
   "metadata": {},
   "source": [
    "Answer the “so what?” question. How can the new\n",
    "approach be used to make a difference?"
   ]
  },
  {
   "cell_type": "markdown",
   "id": "e87e4581",
   "metadata": {},
   "source": [
    "# 8. Reflection"
   ]
  },
  {
   "cell_type": "markdown",
   "id": "0a7ab0d3",
   "metadata": {},
   "source": [
    "Briefly indicate what you have learnt. What worked\n",
    "well, or what would you like to change ‘next time’? If\n",
    "you had more time, what would you further consider\n",
    "or might a team member want to improve upon when\n",
    "considering the project?"
   ]
  },
  {
   "cell_type": "code",
   "execution_count": null,
   "id": "0130d8c6",
   "metadata": {},
   "outputs": [],
   "source": []
  }
 ],
 "metadata": {
  "kernelspec": {
   "display_name": "Python 3 (ipykernel)",
   "language": "python",
   "name": "python3"
  },
  "language_info": {
   "codemirror_mode": {
    "name": "ipython",
    "version": 3
   },
   "file_extension": ".py",
   "mimetype": "text/x-python",
   "name": "python",
   "nbconvert_exporter": "python",
   "pygments_lexer": "ipython3",
   "version": "3.11.3"
  }
 },
 "nbformat": 4,
 "nbformat_minor": 5
}
