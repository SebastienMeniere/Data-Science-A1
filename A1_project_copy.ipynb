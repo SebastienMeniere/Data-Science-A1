{
 "cells": [
  {
   "cell_type": "code",
   "execution_count": 2,
   "id": "dd8640a4",
   "metadata": {},
   "outputs": [
    {
     "name": "stdout",
     "output_type": "stream",
     "text": [
      "Collecting ucimlrepo\n",
      "  Downloading ucimlrepo-0.0.6-py3-none-any.whl.metadata (5.3 kB)\n",
      "Downloading ucimlrepo-0.0.6-py3-none-any.whl (8.0 kB)\n",
      "Installing collected packages: ucimlrepo\n",
      "Successfully installed ucimlrepo-0.0.6\n",
      "Note: you may need to restart the kernel to use updated packages.\n"
     ]
    }
   ],
   "source": [
    "pip install ucimlrepo"
   ]
  },
  {
   "cell_type": "code",
   "execution_count": 1,
   "id": "c447f317",
   "metadata": {},
   "outputs": [],
   "source": [
    "import pandas as pd\n",
    "import numpy as np\n",
    "import matplotlib.pyplot as plt\n",
    "import seaborn as sns\n",
    "from sklearn.model_selection import train_test_split, GridSearchCV\n",
    "from sklearn.preprocessing import StandardScaler\n",
    "from sklearn.decomposition import PCA\n",
    "from sklearn.ensemble import AdaBoostClassifier\n",
    "from sklearn.neighbors import KNeighborsClassifier\n",
    "from sklearn.metrics import confusion_matrix, classification_report\n",
    "from sklearn.tree import DecisionTreeClassifier\n",
    "from sklearn.svm import SVC"
   ]
  },
  {
   "cell_type": "code",
   "execution_count": 2,
   "id": "7abae357",
   "metadata": {},
   "outputs": [],
   "source": [
    "#data preprocessing, we have the to remove some columns, and make some changes to the target\n",
    "data =(pd.read_csv(\"OnlineNewsPopularity/OnlineNewsPopularity.csv\"))\n",
    "df = data.drop(['url'], axis = 1)\n",
    "df = df.drop([' timedelta'], axis = 1)\n",
    "#timedelta and url are non predictive\n",
    "X = df.drop([' shares'], axis = 1)\n",
    "y = df[' shares']\n",
    "y_bins = np.zeros(len(y))\n",
    "for i in range(len(y)):\n",
    "    if (y[i] >= 1400):\n",
    "        y_bins[i] = 1"
   ]
  },
  {
   "cell_type": "code",
   "execution_count": 3,
   "id": "c3f18af1-eed1-4415-96e7-aa66ad20fb9c",
   "metadata": {},
   "outputs": [],
   "source": [
    "X_train, X_test, y_train, y_test = train_test_split(X, y_bins, test_size = 0.2, random_state=42)"
   ]
  },
  {
   "cell_type": "code",
   "execution_count": 4,
   "id": "71c87a3c",
   "metadata": {},
   "outputs": [
    {
     "data": {
      "text/plain": [
       "array([-0.04462218,  0.04266874,  0.00352278,  0.00472202,  0.00290686,\n",
       "        0.08959905,  0.0366587 ,  0.06690152,  0.00416543, -0.02892316,\n",
       "        0.07539499,  0.03644297, -0.1159763 , -0.00423825,  0.11221045,\n",
       "        0.10588647, -0.1495245 ,  0.05152608,  0.0241755 ,  0.03446982,\n",
       "        0.00637121, -0.03514929,  0.01281584,  0.08977011,  0.06751561,\n",
       "        0.15212524,  0.05640454,  0.06045261,  0.06772422, -0.02111266,\n",
       "       -0.04098967, -0.04681219, -0.02640689,  0.01324064,  0.11130556,\n",
       "        0.08216066,  0.14133329,  0.06493135, -0.08278621, -0.1566301 ,\n",
       "        0.05564557,  0.10006791,  0.06793994,  0.07311619,  0.0596592 ,\n",
       "       -0.02628104,  0.0419502 , -0.06971836,  0.02731472, -0.02587561,\n",
       "        0.03936381, -0.00161778, -0.00090621, -0.00118362,  0.03539172,\n",
       "        0.05144273,  0.00572621,  0.04292885])"
      ]
     },
     "execution_count": 4,
     "metadata": {},
     "output_type": "execute_result"
    }
   ],
   "source": [
    "corr_ = np.zeros(len(X_train.T))\n",
    "index = np.zeros(len(X_train.T))\n",
    "for i in range(len(X_train.T)):\n",
    "    cor = np.corrcoef(y_train, X_train.iloc[:,i])[1,0]\n",
    "    index[i] = i\n",
    "    corr_[i] = cor\n",
    "corr_"
   ]
  },
  {
   "cell_type": "code",
   "execution_count": 5,
   "id": "5176d711-d5b8-43e5-abfc-d2d923a4d10f",
   "metadata": {},
   "outputs": [],
   "source": [
    "linear_features_X_train = X_train.T[np.absolute(corr_) >= 0.025].T\n",
    "linear_features_X_test = X_test.T[np.absolute(corr_) >= 0.025].T\n",
    "nonlinear_features_X_train = X_train.T[np.absolute(corr_) < 0.025].T\n",
    "nonlinear_features_X_test = X_test.T[np.absolute(corr_) < 0.025].T"
   ]
  },
  {
   "cell_type": "code",
   "execution_count": 6,
   "id": "e7925cb1-b6d1-4431-b7ec-78f3195eb167",
   "metadata": {
    "scrolled": true
   },
   "outputs": [
    {
     "data": {
      "image/png": "[encoded data removed]",
      "text/plain": [
       "<Figure size 500x500 with 1 Axes>"
      ]
     },
     "metadata": {},
     "output_type": "display_data"
    }
   ],
   "source": [
    "pca_example = PCA(n_components=44)\n",
    "pca_example.fit(linear_features_X_train)\n",
    "plt.figure(figsize=(5,5))\n",
    "plt.plot(pca_example.explained_variance_ratio_)\n",
    "plt.title(\"Explained Variance per Principal Component\")\n",
    "plt.xlabel(\"Principal component number\")\n",
    "plt.ylabel(\"Explained variance ratio\")\n",
    "plt.show()"
   ]
  },
  {
   "cell_type": "markdown",
   "id": "6a47bd5d-5638-49cf-affb-e6933bb4fa4f",
   "metadata": {},
   "source": [
    "It is clear that all of the linear features can be reduced to a single linear feature, the first principal component"
   ]
  },
  {
   "cell_type": "code",
   "execution_count": 7,
   "id": "9ee13411-cac8-4852-8608-c98aba511fb4",
   "metadata": {},
   "outputs": [],
   "source": [
    "pca = PCA(n_components=2)\n",
    "linear_features_X_train = pca.fit_transform(linear_features_X_train)\n",
    "linear_features_X_test = pca.transform(linear_features_X_test)"
   ]
  },
  {
   "cell_type": "code",
   "execution_count": 8,
   "id": "04c1f397-546a-42ac-bb15-5b7f22ca4252",
   "metadata": {},
   "outputs": [
    {
     "data": {
      "text/plain": [
       "0.03497477585044461"
      ]
     },
     "execution_count": 8,
     "metadata": {},
     "output_type": "execute_result"
    }
   ],
   "source": [
    "np.corrcoef(y_train, linear_features_X_train[:,0])[1,0]"
   ]
  },
  {
   "cell_type": "code",
   "execution_count": 10,
   "id": "ac6aa938-c479-4953-9b1d-0adb20645356",
   "metadata": {},
   "outputs": [],
   "source": [
    "X_train = np.hstack((linear_features_X_train, nonlinear_features_X_train))\n",
    "X_test = np.hstack((linear_features_X_test, nonlinear_features_X_test))"
   ]
  },
  {
   "cell_type": "code",
   "execution_count": null,
   "id": "ee957fc4-9786-4e89-8d31-cc2320d0864a",
   "metadata": {},
   "outputs": [],
   "source": [
    "param_grid = {\n",
    "    'n_estimators': [50, 100, 200],\n",
    "    'learning_rate': [0.01, 0.1, 1.0],\n",
    "\n",
    "    'estimator': [\n",
    "        DecisionTreeClassifier(),  # Often used as the base for AdaBoost\n",
    "    ],\n",
    "    'estimator__max_depth': [1, 2, 3, 4, 5]\n",
    "}\n",
    "grid_search = GridSearchCV(AdaBoostClassifier(), param_grid, cv=10, scoring='accuracy', n_jobs = -1)\n",
    "grid_search.fit(X_train, y_train)"
   ]
  },
  {
   "cell_type": "code",
   "execution_count": null,
   "id": "7b9c6344-65b1-4704-ac33-a40139b6f707",
   "metadata": {},
   "outputs": [],
   "source": [
    "grid_search.best_estimator_"
   ]
  },
  {
   "cell_type": "code",
   "execution_count": null,
   "id": "f2d35f1a-f925-4add-bf56-68a76aa090c9",
   "metadata": {},
   "outputs": [],
   "source": [
    "y_preds = grid_search.predict(X_test)\n",
    "print(classification_report(y_test, y_preds))"
   ]
  },
  {
   "cell_type": "markdown",
   "id": "e4e6b691",
   "metadata": {},
   "source": [
    "# 1. Problem statement"
   ]
  },
  {
   "cell_type": "code",
   "execution_count": null,
   "id": "bd40a279",
   "metadata": {},
   "outputs": [],
   "source": []
  },
  {
   "cell_type": "markdown",
   "id": "d70a56ea",
   "metadata": {},
   "source": [
    "    1)Choice of an interesting, modern, useful application. Preferably not a first-world problem.\n",
    "\n",
    "    2)Clear, concise description of the problem statement, its importance, and difficulties associated with it.\n",
    "\n",
    "    3)Clear objectives: state whether the focus is prediction accuracy and/or interpretation, regression or classification? Try to limit the scope.\n",
    "\n",
    "    4)Remember to provide references of work in the literature related to the problem of interest. You\n",
    "    have to research what has already been done in the field.\n",
    "    \n",
    "    5)End with all references for the current approach."
   ]
  },
  {
   "cell_type": "markdown",
   "id": "cfef1865",
   "metadata": {},
   "source": [
    "We have chosen to focus our research and statistical learning application in the domain of social networks. Specifically with regards to predicting online social behavoir, in the form of identifying which pieces of media are likely to gain popularity. \n",
    "\n",
    "Popularity prediction, or virality prediction, is the practice of using some predictive / regession model trained to predict wether a new piece of online media will go viral, which is to say that it will be viewed by a large amount of people. The most common / recognised mechanism for internet content to attain virality is though shares. When users send the article, video, tweet to other users, who might in turn do the same. \n",
    "\n",
    "importance:\n",
    "-Enhancing News Relevance\n",
    "-Audience Engagement\n",
    "-Rising Importance of Digital Media Literacy\n",
    "-Erosion of Trust in Media\n",
    "-Political Polarization and Disinformation Campaigns\n",
    "-Resilience Against Information Warfare\n",
    "\n",
    "difficulties:\n",
    "-interpretation \n",
    "-constant changes in public appeal and opinions \n",
    "-data collection <- tracking if media is shared (mostly off socail media platforms)\n",
    "\n",
    "\n",
    "Therefore the goal is it create a model that is capable of predicting what content will recive the most shares. \n",
    "\n",
    "\n",
    "With the goal in hand, we searched and found a data set that summarized features of thousands of aritcles published by the news / media platform mashable. Then we will be attempting to improve upon the methods of ernandes, Kelwin, Pedro Vinagre, and Paulo Cortez. \"A proactive intelligent decision support system for predicting the popularity of online news.\" In Portuguese Conference on Artificial Intelligence, pp. 535-546. Springer, Cham, 2015.\n",
    "### TODO add refs to other literature in this field"
   ]
  },
  {
   "cell_type": "markdown",
   "id": "d00f84d6",
   "metadata": {},
   "source": [
    "# 2. Data description"
   ]
  },
  {
   "cell_type": "markdown",
   "id": "0fc1eef0",
   "metadata": {},
   "source": [
    "### Conciseness and clarity of the data description, including:\n",
    "\n",
    "    (1)The data source (include references)\n",
    "    \n",
    "    (2)The size of n and p, the response, and a concise summary of the types of predictors (an idea of what kinds of measurements were taken, how many numeric, and how many categorical). Partitioning of the data into   training-and test sets. In classification: are there class imbalances?\n",
    "\n",
    "    (3)Remarks regarding potential data problems (outliers, missing values, omitted variables, etc.)"
   ]
  },
  {
   "cell_type": "markdown",
   "id": "f3ff4d12",
   "metadata": {},
   "source": [
    "The data contains 39644 observations, and 61 features. Some of the predictors are non-informative, and will be removed, this includes the url feature, that just contains the link to the article. All of the predictors are numerical, which some being continuous, some strictly integer, and some categorical. \n",
    "\n",
    "The features are summarises of the various aspects of a new / media article, this includes, but not limited to, date of publication, number of words in the title or in the body, keywords used, seniment of the words used, subjectivity rating, political polarity rating, number of images and videos. These are a few example, to demonstrate the feature / predictor space. \n",
    "\n",
    "we will be following a similary methodology to the current model, in which the target variable is to be paritioned into varying degress of popularity based on the integer value of the target, shares, variable. This way we can apply classification models to the data. \n",
    "\n",
    "There are no missing values, however in the partitioning step, which we will expand upon later, we do have an imbalance in the number of observations per class. There are some potencial outliers, instances where the number of shares is far far greater than many standard deviations from the mean. "
   ]
  },
  {
   "cell_type": "markdown",
   "id": "7bb5931d",
   "metadata": {},
   "source": [
    "## 3. The current approach"
   ]
  },
  {
   "cell_type": "markdown",
   "id": "7911fed5",
   "metadata": {},
   "source": [
    "    (1) Section 3 should be easy to follow and make sense to someone new to the problem.\n",
    "    \n",
    "    (2)Focus only on the key steps and hide unnecessary detail.\n",
    "    \n",
    "    (3)Include flow diagrams/graphs/tables that clarify the process. Clearly indicate whether the training- or test data was used in each step.\n",
    "\n",
    "    (4)Include the types of models considered, whether variable selection/dimension reduction were considered, and parameter values considered when tuning models\n",
    "\n",
    "    (5)Include motivations/your critique with respect to each modelling aspect."
   ]
  },
  {
   "cell_type": "markdown",
   "id": "6bf20e57",
   "metadata": {},
   "source": [
    "The current approach\n",
    "    - classification to predict the popularity of the online news.\n",
    "    - Random Forest, Bayes Net, Logistic Function, C4.5 and Simple Cart.\n",
    "    - The performance of the five models is evaluated by some of the most popular metrics such as Accuracy, Root Mean Square Error (RMSE), Kappa Statistic, TP-Rate, FP-Rate, Precision, F-Measure and ROC Area values.\n",
    "    - feature filtering techniques are applied in the study to improve the model's performance\n",
    "    -  Moreover, for dividing the dataset into a training and testing set, 10-fold cross- validation was used.\n",
    "    "
   ]
  },
  {
   "cell_type": "markdown",
   "id": "792786b0",
   "metadata": {},
   "source": [
    "The methodology for the current model is as follows:\n",
    "\n",
    "preprocessing:\n",
    "\n",
    "The author starts by transforming the numerical target variable, sales, into a binary categorical variable. The two classes are \"Yes\" indicating a high number of shares and \"No\" indicating a low number of shares. A high number of shares is defined as being greater than of equal to 1400, it is unclear how the author came to chose this as the class separation value, and further investigation into differnt boundry values will be discussed later in our approach. \n",
    "\n",
    "This categorization of the data leads to very similar sizes in observations of \"Yes\" and \"No\", but the difference is resolved by taking a balanced subset of the original data. \n",
    "\n",
    "there are no missing values or uneven columns in the data, therefore this completed the preprocessing stage. \n",
    "\n",
    "Constructing the classification models:\n",
    "\n",
    "The paper contains five classification models, and \n",
    "\n"
   ]
  },
  {
   "cell_type": "markdown",
   "id": "db6d948c",
   "metadata": {},
   "source": [
    "# 4. Potential problems with the current approach"
   ]
  },
  {
   "cell_type": "markdown",
   "id": "4e85a2a1",
   "metadata": {},
   "source": [
    "    (1)Provide a summary of each step in the current approach.\n",
    "\n",
    "    (2)Summarise potential problems or shortcomings with the current approach (or motivate why there aren’t any).\n",
    "\n",
    "    (3)Identify options for extending the current approach or outcomes, and their potential benefits. All considered options should be sensible and well motivated.\n",
    "\n",
    "    (4) Show creative/innovative/critical thinking: what steps could have been omitted, what steps could have been added, what other aspects could have been addressed? Select the options in (2)-(4) to be furtherinvestigated, and motivate your choices."
   ]
  },
  {
   "cell_type": "markdown",
   "id": "baeacfe1",
   "metadata": {},
   "source": [
    "# 5. The new approach"
   ]
  },
  {
   "cell_type": "markdown",
   "id": "241d85d6",
   "metadata": {},
   "source": [
    "    (1)Start with a summary of the new approach.\n",
    "\n",
    "    (2)Cover all important modelling aspects. Mention all options that were investigated. Hide unnecessary detail. Do not elaborate on options that were investigated, but that did not lead to improvements.\n",
    "\n",
    "    (3)Use tables/figures/graphs to highlight the effects of changes to the current approach."
   ]
  },
  {
   "cell_type": "markdown",
   "id": "f65f6557",
   "metadata": {},
   "source": [
    "# 6. A comparison of model results"
   ]
  },
  {
   "cell_type": "markdown",
   "id": "967d4052",
   "metadata": {},
   "source": [
    "    (1) If appropriate, a comparison of results in terms of both prediction accuracy and interpretation. Appropriate performance measures.\n",
    "   \n",
    "    (2) In summary format (results of both approaches in table format). Include figures.\n",
    "\n",
    "    (3) Highlight improvements in your discussion (lead the reader through the results and to a conclusion)."
   ]
  },
  {
   "cell_type": "markdown",
   "id": "2773edea",
   "metadata": {},
   "source": [
    "# 7. Actionable insights"
   ]
  },
  {
   "cell_type": "markdown",
   "id": "899c7070",
   "metadata": {},
   "source": [
    "Answer the “so what?” question. How can the new\n",
    "approach be used to make a difference?"
   ]
  },
  {
   "cell_type": "markdown",
   "id": "e87e4581",
   "metadata": {},
   "source": [
    "# 8. Reflection"
   ]
  },
  {
   "cell_type": "markdown",
   "id": "0a7ab0d3",
   "metadata": {},
   "source": [
    "Briefly indicate what you have learnt. What worked\n",
    "well, or what would you like to change ‘next time’? If\n",
    "you had more time, what would you further consider\n",
    "or might a team member want to improve upon when\n",
    "considering the project?"
   ]
  },
  {
   "cell_type": "code",
   "execution_count": null,
   "id": "0130d8c6",
   "metadata": {},
   "outputs": [],
   "source": []
  }
 ],
 "metadata": {
  "kernelspec": {
   "display_name": "Python 3 (ipykernel)",
   "language": "python",
   "name": "python3"
  },
  "language_info": {
   "codemirror_mode": {
    "name": "ipython",
    "version": 3
   },
   "file_extension": ".py",
   "mimetype": "text/x-python",
   "name": "python",
   "nbconvert_exporter": "python",
   "pygments_lexer": "ipython3",
   "version": "3.11.7"
  }
 },
 "nbformat": 4,
 "nbformat_minor": 5
}
